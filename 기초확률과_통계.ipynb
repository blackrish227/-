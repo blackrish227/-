{
  "nbformat": 4,
  "nbformat_minor": 0,
  "metadata": {
    "colab": {
      "provenance": []
    },
    "kernelspec": {
      "name": "python3",
      "display_name": "Python 3"
    },
    "language_info": {
      "name": "python"
    }
  },
  "cells": [
    {
      "cell_type": "code",
      "execution_count": 2,
      "metadata": {
        "colab": {
          "base_uri": "https://localhost:8080/"
        },
        "id": "TkRNnuZqXh0r",
        "outputId": "c8180948-085a-4b1a-c4d1-1848cf10c51c"
      },
      "outputs": [
        {
          "output_type": "stream",
          "name": "stdout",
          "text": [
            "최주영, 20살\n"
          ]
        }
      ],
      "source": [
        "print(\"최주영, 20살\")"
      ]
    },
    {
      "cell_type": "code",
      "source": [],
      "metadata": {
        "id": "EuSAOrUPXo0K"
      },
      "execution_count": null,
      "outputs": []
    }
  ]
}