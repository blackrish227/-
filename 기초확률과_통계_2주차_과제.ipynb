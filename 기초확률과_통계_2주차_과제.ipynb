{
  "nbformat": 4,
  "nbformat_minor": 0,
  "metadata": {
    "colab": {
      "provenance": []
    },
    "kernelspec": {
      "name": "python3",
      "display_name": "Python 3"
    },
    "language_info": {
      "name": "python"
    }
  },
  "cells": [
    {
      "cell_type": "code",
      "execution_count": 1,
      "metadata": {
        "colab": {
          "base_uri": "https://localhost:8080/"
        },
        "id": "YcxqLmWT1LWN",
        "outputId": "2e1e42aa-2736-4690-9a42-5be6d0edf11a"
      },
      "outputs": [
        {
          "output_type": "stream",
          "name": "stdout",
          "text": [
            "[6, 5, 4, 3, 2]\n"
          ]
        }
      ],
      "source": [
        "a = [2,3,4,5,6]\n",
        "rev_a = []\n",
        "for _ in range(len(a)):\n",
        "  rev_a.append(a.pop())\n",
        "print(rev_a)"
      ]
    }
  ]
}